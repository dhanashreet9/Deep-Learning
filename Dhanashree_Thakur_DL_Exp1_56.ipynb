{
  "nbformat": 4,
  "nbformat_minor": 0,
  "metadata": {
    "colab": {
      "provenance": []
    },
    "kernelspec": {
      "name": "python3",
      "display_name": "Python 3"
    },
    "language_info": {
      "name": "python"
    }
  },
  "cells": [
    {
      "cell_type": "markdown",
      "source": [
        "Name - Dhanashree Thakur    \n",
        "\n",
        "Roll No - 56\n",
        "\n",
        "Branch - CSE(DS)\n",
        "\n",
        "Experiment No.1"
      ],
      "metadata": {
        "id": "uyMjTEaSeugi"
      }
    },
    {
      "cell_type": "code",
      "execution_count": 1,
      "metadata": {
        "id": "41URsJuFcK7-"
      },
      "outputs": [],
      "source": [
        "import numpy as np\n",
        "from keras.models import Sequential\n",
        "from keras.layers import Dense"
      ]
    },
    {
      "cell_type": "code",
      "source": [
        "# XOR input data\n",
        "X = np.array([[0, 0], [0, 1], [1, 0], [1, 1]])\n",
        "# Corresponding XOR output data\n",
        "Y = np.array([[0], [1], [1], [0]])"
      ],
      "metadata": {
        "id": "tFo7H_3Tcbvp"
      },
      "execution_count": 2,
      "outputs": []
    },
    {
      "cell_type": "code",
      "source": [
        "# Create a sequential model\n",
        "model = Sequential()\n",
        "# Add a hidden layer with 8 neurons and 'relu' activation function\n",
        "model.add(Dense(8, input_dim=2, activation='relu'))"
      ],
      "metadata": {
        "id": "TPaRo1ajcoOS"
      },
      "execution_count": 3,
      "outputs": []
    },
    {
      "cell_type": "code",
      "source": [
        "# Add the output layer with 1 neuron and 'sigmoid' activation function\n",
        "model.add(Dense(1, activation='sigmoid'))\n",
        "# Compile the model using binary cross-entropy loss and Adam optimizer\n",
        "model.compile(loss='binary_crossentropy', optimizer='adam', metrics=['accuracy'])"
      ],
      "metadata": {
        "id": "c5fxad8ZcuEi"
      },
      "execution_count": 4,
      "outputs": []
    },
    {
      "cell_type": "code",
      "source": [
        "# Train the model for 1000 epochs\n",
        "model.fit(X, Y, epochs=1000, verbose=0)"
      ],
      "metadata": {
        "colab": {
          "base_uri": "https://localhost:8080/"
        },
        "id": "3jsOk76MczWi",
        "outputId": "621b6967-ea49-436b-d894-75cd3e2beaea"
      },
      "execution_count": 5,
      "outputs": [
        {
          "output_type": "execute_result",
          "data": {
            "text/plain": [
              "<keras.src.callbacks.History at 0x79668c1236a0>"
            ]
          },
          "metadata": {},
          "execution_count": 5
        }
      ]
    },
    {
      "cell_type": "code",
      "source": [
        "# Evaluate the model\n",
        "loss, accuracy = model.evaluate(X, Y)\n",
        "print(f\"Loss: {loss:.4f}, Accuracy: {accuracy:.4f}\")"
      ],
      "metadata": {
        "colab": {
          "base_uri": "https://localhost:8080/"
        },
        "id": "v1U-uZEYc-7a",
        "outputId": "cb5714cf-a616-4b9f-a9fd-3d8ba04eda32"
      },
      "execution_count": 6,
      "outputs": [
        {
          "output_type": "stream",
          "name": "stdout",
          "text": [
            "1/1 [==============================] - 0s 237ms/step - loss: 0.1768 - accuracy: 1.0000\n",
            "Loss: 0.1768, Accuracy: 1.0000\n"
          ]
        }
      ]
    },
    {
      "cell_type": "code",
      "source": [
        "# Make predictions\n",
        "predictions = model.predict(X)\n",
        "rounded_predictions = np.round(predictions)\n",
        "print(\"Predictions:\")\n",
        "print(rounded_predictions)"
      ],
      "metadata": {
        "colab": {
          "base_uri": "https://localhost:8080/"
        },
        "id": "EGd1FrqEdDty",
        "outputId": "63dfa301-1279-4551-9fd9-5d04f20634d6"
      },
      "execution_count": 7,
      "outputs": [
        {
          "output_type": "stream",
          "name": "stdout",
          "text": [
            "1/1 [==============================] - 0s 125ms/step\n",
            "Predictions:\n",
            "[[0.]\n",
            " [1.]\n",
            " [1.]\n",
            " [0.]]\n"
          ]
        }
      ]
    }
  ]
}